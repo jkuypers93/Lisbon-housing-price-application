{
 "cells": [
  {
   "cell_type": "code",
   "execution_count": 1,
   "metadata": {},
   "outputs": [],
   "source": [
    "import pandas as pd\n",
    "import seaborn as sb\n"
   ]
  },
  {
   "cell_type": "code",
   "execution_count": 2,
   "metadata": {},
   "outputs": [],
   "source": [
    "SapoData = pd.read_csv('housingLisbon/casa_sapo_550pages.csv')\n",
    "SapoDict = pd.read_csv('housingLisbon/casa_sapo_Dictionary.csv')"
   ]
  },
  {
   "cell_type": "code",
   "execution_count": 3,
   "metadata": {},
   "outputs": [],
   "source": [
    "#drop rows with empty values\n",
    "SapoData = SapoData.dropna()\n",
    "SapoDict = SapoDict.dropna()\n"
   ]
  },
  {
   "cell_type": "code",
   "execution_count": null,
   "metadata": {},
   "outputs": [],
   "source": []
  },
  {
   "cell_type": "code",
   "execution_count": 4,
   "metadata": {},
   "outputs": [],
   "source": [
    "Sapo = pd.DataFrame(columns=['title', 'price', 'area'])"
   ]
  },
  {
   "cell_type": "code",
   "execution_count": 5,
   "metadata": {},
   "outputs": [],
   "source": [
    "Sapo = SapoDict['price'].str.split(' ,', expand=True).stack().reset_index().rename(columns={0:'price'}).drop(columns=['level_0', 'level_1'])\n",
    "\n",
    "\n"
   ]
  },
  {
   "cell_type": "code",
   "execution_count": 6,
   "metadata": {},
   "outputs": [],
   "source": [
    "Sapo['title'] = SapoDict['title'].str.split('\\r\\n                    ,\\r\\n                        ', expand=True).stack().reset_index().drop(columns=['level_0','level_1'])\n"
   ]
  },
  {
   "cell_type": "code",
   "execution_count": 7,
   "metadata": {},
   "outputs": [],
   "source": [
    "Sapo['area'] = SapoDict['area'].str.split('Condition,', expand=True).stack().reset_index().drop(columns=['level_0','level_1'])\n",
    "\n",
    "\n"
   ]
  },
  {
   "cell_type": "code",
   "execution_count": 8,
   "metadata": {},
   "outputs": [],
   "source": [
    "Sapo['area'] = Sapo['area'].astype(str)"
   ]
  },
  {
   "cell_type": "code",
   "execution_count": 9,
   "metadata": {},
   "outputs": [],
   "source": [
    "df = pd.DataFrame(Sapo['area'].str.split(',',6).tolist(), columns = ['Condition', 'NetArea1',\n",
    "                                                                     'NetArea','FloorArea1',\n",
    "                                                                     'FloorArea','ContructionArea1','ConstructionArea'])\n"
   ]
  },
  {
   "cell_type": "code",
   "execution_count": 10,
   "metadata": {},
   "outputs": [],
   "source": [
    "df['NetArea'].loc[df['NetArea'] == '-'] = df['FloorArea']\n",
    "df['NetArea'].loc[df['NetArea'] == ''] = df['FloorArea']\n"
   ]
  },
  {
   "cell_type": "code",
   "execution_count": 11,
   "metadata": {},
   "outputs": [
    {
     "data": {
      "text/html": [
       "<div>\n",
       "<style scoped>\n",
       "    .dataframe tbody tr th:only-of-type {\n",
       "        vertical-align: middle;\n",
       "    }\n",
       "\n",
       "    .dataframe tbody tr th {\n",
       "        vertical-align: top;\n",
       "    }\n",
       "\n",
       "    .dataframe thead th {\n",
       "        text-align: right;\n",
       "    }\n",
       "</style>\n",
       "<table border=\"1\" class=\"dataframe\">\n",
       "  <thead>\n",
       "    <tr style=\"text-align: right;\">\n",
       "      <th></th>\n",
       "      <th>price</th>\n",
       "      <th>title</th>\n",
       "      <th>area</th>\n",
       "    </tr>\n",
       "  </thead>\n",
       "  <tbody>\n",
       "    <tr>\n",
       "      <th>0</th>\n",
       "      <td>369,900</td>\n",
       "      <td>\\r\\n                        Apartment 2 Bedroo...</td>\n",
       "      <td></td>\n",
       "    </tr>\n",
       "    <tr>\n",
       "      <th>1</th>\n",
       "      <td>320,000</td>\n",
       "      <td>Apartment 2 Bedrooms, Penha de França, Lisboa</td>\n",
       "      <td>Refurbished,Net Area,85m²,Floor Area,95m²,Cons...</td>\n",
       "    </tr>\n",
       "    <tr>\n",
       "      <th>2</th>\n",
       "      <td>2,200,000</td>\n",
       "      <td>Apartment 4 Bedrooms, Restelo (São Francisco X...</td>\n",
       "      <td>Refurbished,Net Area,-,Floor Area,80m²,Constru...</td>\n",
       "    </tr>\n",
       "    <tr>\n",
       "      <th>3</th>\n",
       "      <td>1,650,000</td>\n",
       "      <td>Apartment 3 Bedrooms, Amoreiras, Campolide, Li...</td>\n",
       "      <td>New,Net Area,-,Floor Area,282m²,Construction A...</td>\n",
       "    </tr>\n",
       "    <tr>\n",
       "      <th>4</th>\n",
       "      <td>1,500,000</td>\n",
       "      <td>Apartment 4 Bedrooms, Páteo Bagatela (São Mame...</td>\n",
       "      <td>Under construction,Net Area,-,Floor Area,211m²...</td>\n",
       "    </tr>\n",
       "  </tbody>\n",
       "</table>\n",
       "</div>"
      ],
      "text/plain": [
       "       price                                              title  \\\n",
       "0    369,900  \\r\\n                        Apartment 2 Bedroo...   \n",
       "1    320,000      Apartment 2 Bedrooms, Penha de França, Lisboa   \n",
       "2  2,200,000  Apartment 4 Bedrooms, Restelo (São Francisco X...   \n",
       "3  1,650,000  Apartment 3 Bedrooms, Amoreiras, Campolide, Li...   \n",
       "4  1,500,000  Apartment 4 Bedrooms, Páteo Bagatela (São Mame...   \n",
       "\n",
       "                                                area  \n",
       "0                                                     \n",
       "1  Refurbished,Net Area,85m²,Floor Area,95m²,Cons...  \n",
       "2  Refurbished,Net Area,-,Floor Area,80m²,Constru...  \n",
       "3  New,Net Area,-,Floor Area,282m²,Construction A...  \n",
       "4  Under construction,Net Area,-,Floor Area,211m²...  "
      ]
     },
     "execution_count": 11,
     "metadata": {},
     "output_type": "execute_result"
    }
   ],
   "source": [
    "Sapo.head()"
   ]
  },
  {
   "cell_type": "code",
   "execution_count": 12,
   "metadata": {},
   "outputs": [
    {
     "data": {
      "text/html": [
       "<div>\n",
       "<style scoped>\n",
       "    .dataframe tbody tr th:only-of-type {\n",
       "        vertical-align: middle;\n",
       "    }\n",
       "\n",
       "    .dataframe tbody tr th {\n",
       "        vertical-align: top;\n",
       "    }\n",
       "\n",
       "    .dataframe thead th {\n",
       "        text-align: right;\n",
       "    }\n",
       "</style>\n",
       "<table border=\"1\" class=\"dataframe\">\n",
       "  <thead>\n",
       "    <tr style=\"text-align: right;\">\n",
       "      <th></th>\n",
       "      <th>Condition</th>\n",
       "      <th>NetArea1</th>\n",
       "      <th>NetArea</th>\n",
       "      <th>FloorArea1</th>\n",
       "      <th>FloorArea</th>\n",
       "      <th>ContructionArea1</th>\n",
       "      <th>ConstructionArea</th>\n",
       "    </tr>\n",
       "  </thead>\n",
       "  <tbody>\n",
       "    <tr>\n",
       "      <th>0</th>\n",
       "      <td></td>\n",
       "      <td>None</td>\n",
       "      <td>None</td>\n",
       "      <td>None</td>\n",
       "      <td>None</td>\n",
       "      <td>None</td>\n",
       "      <td>None</td>\n",
       "    </tr>\n",
       "    <tr>\n",
       "      <th>1</th>\n",
       "      <td>Refurbished</td>\n",
       "      <td>Net Area</td>\n",
       "      <td>85m²</td>\n",
       "      <td>Floor Area</td>\n",
       "      <td>95m²</td>\n",
       "      <td>Construction Area</td>\n",
       "      <td>-,</td>\n",
       "    </tr>\n",
       "    <tr>\n",
       "      <th>2</th>\n",
       "      <td>Refurbished</td>\n",
       "      <td>Net Area</td>\n",
       "      <td>80m²</td>\n",
       "      <td>Floor Area</td>\n",
       "      <td>80m²</td>\n",
       "      <td>Construction Area</td>\n",
       "      <td>-,</td>\n",
       "    </tr>\n",
       "    <tr>\n",
       "      <th>3</th>\n",
       "      <td>New</td>\n",
       "      <td>Net Area</td>\n",
       "      <td>282m²</td>\n",
       "      <td>Floor Area</td>\n",
       "      <td>282m²</td>\n",
       "      <td>Construction Area</td>\n",
       "      <td>-,</td>\n",
       "    </tr>\n",
       "    <tr>\n",
       "      <th>4</th>\n",
       "      <td>Under construction</td>\n",
       "      <td>Net Area</td>\n",
       "      <td>211m²</td>\n",
       "      <td>Floor Area</td>\n",
       "      <td>211m²</td>\n",
       "      <td>Construction Area</td>\n",
       "      <td>-,</td>\n",
       "    </tr>\n",
       "  </tbody>\n",
       "</table>\n",
       "</div>"
      ],
      "text/plain": [
       "            Condition  NetArea1 NetArea  FloorArea1 FloorArea  \\\n",
       "0                          None    None        None      None   \n",
       "1         Refurbished  Net Area    85m²  Floor Area      95m²   \n",
       "2         Refurbished  Net Area    80m²  Floor Area      80m²   \n",
       "3                 New  Net Area   282m²  Floor Area     282m²   \n",
       "4  Under construction  Net Area   211m²  Floor Area     211m²   \n",
       "\n",
       "    ContructionArea1 ConstructionArea  \n",
       "0               None             None  \n",
       "1  Construction Area               -,  \n",
       "2  Construction Area               -,  \n",
       "3  Construction Area               -,  \n",
       "4  Construction Area               -,  "
      ]
     },
     "execution_count": 12,
     "metadata": {},
     "output_type": "execute_result"
    }
   ],
   "source": [
    "df.head()"
   ]
  },
  {
   "cell_type": "code",
   "execution_count": null,
   "metadata": {},
   "outputs": [],
   "source": []
  },
  {
   "cell_type": "code",
   "execution_count": 13,
   "metadata": {},
   "outputs": [],
   "source": [
    "df = df.drop(columns=['NetArea1','FloorArea1','ContructionArea1', 'FloorArea', 'ConstructionArea'])"
   ]
  },
  {
   "cell_type": "code",
   "execution_count": 14,
   "metadata": {},
   "outputs": [],
   "source": [
    "df = df.drop([0])"
   ]
  },
  {
   "cell_type": "code",
   "execution_count": 15,
   "metadata": {},
   "outputs": [],
   "source": [
    "#split the listing title into appropriate columns\n",
    "dfy = pd.DataFrame(Sapo['title'].str.split(',').tolist(), columns = ['Bedrooms', 'Neighborhood', 'Parish','City'])"
   ]
  },
  {
   "cell_type": "code",
   "execution_count": 16,
   "metadata": {},
   "outputs": [],
   "source": [
    "dfy.loc[dfy['Parish'] == 'Lisboa','Parish'] = dfy['Neighborhood']"
   ]
  },
  {
   "cell_type": "code",
   "execution_count": 17,
   "metadata": {},
   "outputs": [],
   "source": [
    "dfx = pd.DataFrame(dfy['Bedrooms'].str.split(' ',2).tolist(), columns = ['Type','NbrBedrooms','Bedroom'])\n"
   ]
  },
  {
   "cell_type": "code",
   "execution_count": 18,
   "metadata": {},
   "outputs": [],
   "source": [
    "dfy = dfy.join(dfx)"
   ]
  },
  {
   "cell_type": "code",
   "execution_count": 19,
   "metadata": {},
   "outputs": [],
   "source": [
    "dfy = dfy.drop(columns = ['Bedrooms'])"
   ]
  },
  {
   "cell_type": "code",
   "execution_count": 20,
   "metadata": {},
   "outputs": [],
   "source": [
    "Sapo = Sapo.join(dfy)"
   ]
  },
  {
   "cell_type": "code",
   "execution_count": 21,
   "metadata": {},
   "outputs": [],
   "source": [
    "Sapo = Sapo.join(df)"
   ]
  },
  {
   "cell_type": "code",
   "execution_count": 22,
   "metadata": {},
   "outputs": [
    {
     "data": {
      "text/html": [
       "<div>\n",
       "<style scoped>\n",
       "    .dataframe tbody tr th:only-of-type {\n",
       "        vertical-align: middle;\n",
       "    }\n",
       "\n",
       "    .dataframe tbody tr th {\n",
       "        vertical-align: top;\n",
       "    }\n",
       "\n",
       "    .dataframe thead th {\n",
       "        text-align: right;\n",
       "    }\n",
       "</style>\n",
       "<table border=\"1\" class=\"dataframe\">\n",
       "  <thead>\n",
       "    <tr style=\"text-align: right;\">\n",
       "      <th></th>\n",
       "      <th>price</th>\n",
       "      <th>title</th>\n",
       "      <th>area</th>\n",
       "      <th>Neighborhood</th>\n",
       "      <th>Parish</th>\n",
       "      <th>City</th>\n",
       "      <th>Type</th>\n",
       "      <th>NbrBedrooms</th>\n",
       "      <th>Bedroom</th>\n",
       "      <th>Condition</th>\n",
       "      <th>NetArea</th>\n",
       "    </tr>\n",
       "  </thead>\n",
       "  <tbody>\n",
       "    <tr>\n",
       "      <th>0</th>\n",
       "      <td>369,900</td>\n",
       "      <td>\\r\\n                        Apartment 2 Bedroo...</td>\n",
       "      <td></td>\n",
       "      <td>Alvalade</td>\n",
       "      <td>Alvalade</td>\n",
       "      <td>Lisboa</td>\n",
       "      <td>\\r\\n</td>\n",
       "      <td></td>\n",
       "      <td>Apartment 2 Bedrooms</td>\n",
       "      <td>NaN</td>\n",
       "      <td>NaN</td>\n",
       "    </tr>\n",
       "    <tr>\n",
       "      <th>1</th>\n",
       "      <td>320,000</td>\n",
       "      <td>Apartment 2 Bedrooms, Penha de França, Lisboa</td>\n",
       "      <td>Refurbished,Net Area,85m²,Floor Area,95m²,Cons...</td>\n",
       "      <td>Penha de França</td>\n",
       "      <td>Lisboa</td>\n",
       "      <td>None</td>\n",
       "      <td>Apartment</td>\n",
       "      <td>2</td>\n",
       "      <td>Bedrooms</td>\n",
       "      <td>Refurbished</td>\n",
       "      <td>85m²</td>\n",
       "    </tr>\n",
       "    <tr>\n",
       "      <th>2</th>\n",
       "      <td>2,200,000</td>\n",
       "      <td>Apartment 4 Bedrooms, Restelo (São Francisco X...</td>\n",
       "      <td>Refurbished,Net Area,-,Floor Area,80m²,Constru...</td>\n",
       "      <td>Restelo (São Francisco Xavier)</td>\n",
       "      <td>Belém</td>\n",
       "      <td>Lisboa</td>\n",
       "      <td>Apartment</td>\n",
       "      <td>4</td>\n",
       "      <td>Bedrooms</td>\n",
       "      <td>Refurbished</td>\n",
       "      <td>80m²</td>\n",
       "    </tr>\n",
       "    <tr>\n",
       "      <th>3</th>\n",
       "      <td>1,650,000</td>\n",
       "      <td>Apartment 3 Bedrooms, Amoreiras, Campolide, Li...</td>\n",
       "      <td>New,Net Area,-,Floor Area,282m²,Construction A...</td>\n",
       "      <td>Amoreiras</td>\n",
       "      <td>Campolide</td>\n",
       "      <td>Lisboa</td>\n",
       "      <td>Apartment</td>\n",
       "      <td>3</td>\n",
       "      <td>Bedrooms</td>\n",
       "      <td>New</td>\n",
       "      <td>282m²</td>\n",
       "    </tr>\n",
       "    <tr>\n",
       "      <th>4</th>\n",
       "      <td>1,500,000</td>\n",
       "      <td>Apartment 4 Bedrooms, Páteo Bagatela (São Mame...</td>\n",
       "      <td>Under construction,Net Area,-,Floor Area,211m²...</td>\n",
       "      <td>Páteo Bagatela (São Mamede)</td>\n",
       "      <td>Santo António</td>\n",
       "      <td>Lisboa</td>\n",
       "      <td>Apartment</td>\n",
       "      <td>4</td>\n",
       "      <td>Bedrooms</td>\n",
       "      <td>Under construction</td>\n",
       "      <td>211m²</td>\n",
       "    </tr>\n",
       "  </tbody>\n",
       "</table>\n",
       "</div>"
      ],
      "text/plain": [
       "       price                                              title  \\\n",
       "0    369,900  \\r\\n                        Apartment 2 Bedroo...   \n",
       "1    320,000      Apartment 2 Bedrooms, Penha de França, Lisboa   \n",
       "2  2,200,000  Apartment 4 Bedrooms, Restelo (São Francisco X...   \n",
       "3  1,650,000  Apartment 3 Bedrooms, Amoreiras, Campolide, Li...   \n",
       "4  1,500,000  Apartment 4 Bedrooms, Páteo Bagatela (São Mame...   \n",
       "\n",
       "                                                area  \\\n",
       "0                                                      \n",
       "1  Refurbished,Net Area,85m²,Floor Area,95m²,Cons...   \n",
       "2  Refurbished,Net Area,-,Floor Area,80m²,Constru...   \n",
       "3  New,Net Area,-,Floor Area,282m²,Construction A...   \n",
       "4  Under construction,Net Area,-,Floor Area,211m²...   \n",
       "\n",
       "                      Neighborhood          Parish     City       Type  \\\n",
       "0                         Alvalade        Alvalade   Lisboa       \\r\\n   \n",
       "1                  Penha de França          Lisboa     None  Apartment   \n",
       "2   Restelo (São Francisco Xavier)           Belém   Lisboa  Apartment   \n",
       "3                        Amoreiras       Campolide   Lisboa  Apartment   \n",
       "4      Páteo Bagatela (São Mamede)   Santo António   Lisboa  Apartment   \n",
       "\n",
       "  NbrBedrooms                                     Bedroom           Condition  \\\n",
       "0                                    Apartment 2 Bedrooms                 NaN   \n",
       "1           2                                    Bedrooms         Refurbished   \n",
       "2           4                                    Bedrooms         Refurbished   \n",
       "3           3                                    Bedrooms                 New   \n",
       "4           4                                    Bedrooms  Under construction   \n",
       "\n",
       "  NetArea  \n",
       "0     NaN  \n",
       "1    85m²  \n",
       "2    80m²  \n",
       "3   282m²  \n",
       "4   211m²  "
      ]
     },
     "execution_count": 22,
     "metadata": {},
     "output_type": "execute_result"
    }
   ],
   "source": [
    "Sapo.head()"
   ]
  },
  {
   "cell_type": "code",
   "execution_count": 23,
   "metadata": {},
   "outputs": [],
   "source": [
    "Sapo = Sapo.drop(columns=['area'])\n",
    "Sapo = Sapo.drop([0])"
   ]
  },
  {
   "cell_type": "code",
   "execution_count": 24,
   "metadata": {},
   "outputs": [],
   "source": [
    "Sapo.to_csv('CasaSapoAppartments.csv')"
   ]
  },
  {
   "cell_type": "markdown",
   "metadata": {},
   "source": [
    "# Houses"
   ]
  },
  {
   "cell_type": "code",
   "execution_count": 25,
   "metadata": {},
   "outputs": [],
   "source": [
    "SapoHouses = pd.read_csv('housingLisbon/casa_sapo_DictionaryHouses.csv')"
   ]
  },
  {
   "cell_type": "code",
   "execution_count": 26,
   "metadata": {},
   "outputs": [],
   "source": [
    "SapoHouz = pd.DataFrame(columns=['title', 'price', 'area'])"
   ]
  },
  {
   "cell_type": "code",
   "execution_count": 27,
   "metadata": {},
   "outputs": [],
   "source": [
    "SapoHouz = SapoHouses['price'].str.split(' ,', expand=True).stack().reset_index().rename(columns={0:'price'}).drop(columns=['level_0', 'level_1'])\n"
   ]
  },
  {
   "cell_type": "code",
   "execution_count": 28,
   "metadata": {},
   "outputs": [],
   "source": [
    "SapoHouz['title'] = SapoHouses['title'].str.split('\\r\\n                    ,\\r\\n                        ', expand=True).stack().reset_index().drop(columns=['level_0','level_1'])"
   ]
  },
  {
   "cell_type": "code",
   "execution_count": 29,
   "metadata": {},
   "outputs": [],
   "source": [
    "SapoHouz['area'] = SapoHouses['area'].str.split('Condition,', expand=True).stack().reset_index().drop(columns=['level_0','level_1'])\n"
   ]
  },
  {
   "cell_type": "code",
   "execution_count": 30,
   "metadata": {},
   "outputs": [],
   "source": [
    "SapoHouz['area'] = SapoHouz['area'].astype(str)"
   ]
  },
  {
   "cell_type": "code",
   "execution_count": 31,
   "metadata": {},
   "outputs": [],
   "source": [
    "#df1['NetArea'].loc[df1['NetArea'] == '-'] = df1['FloorArea']"
   ]
  },
  {
   "cell_type": "code",
   "execution_count": 32,
   "metadata": {},
   "outputs": [
    {
     "data": {
      "text/html": [
       "<div>\n",
       "<style scoped>\n",
       "    .dataframe tbody tr th:only-of-type {\n",
       "        vertical-align: middle;\n",
       "    }\n",
       "\n",
       "    .dataframe tbody tr th {\n",
       "        vertical-align: top;\n",
       "    }\n",
       "\n",
       "    .dataframe thead th {\n",
       "        text-align: right;\n",
       "    }\n",
       "</style>\n",
       "<table border=\"1\" class=\"dataframe\">\n",
       "  <thead>\n",
       "    <tr style=\"text-align: right;\">\n",
       "      <th></th>\n",
       "      <th>price</th>\n",
       "      <th>title</th>\n",
       "      <th>area</th>\n",
       "    </tr>\n",
       "  </thead>\n",
       "  <tbody>\n",
       "    <tr>\n",
       "      <th>0</th>\n",
       "      <td>1,500,000</td>\n",
       "      <td>\\r\\n                        House 5 Bedrooms, ...</td>\n",
       "      <td></td>\n",
       "    </tr>\n",
       "    <tr>\n",
       "      <th>1</th>\n",
       "      <td>6,300,000</td>\n",
       "      <td>House 7 Bedrooms, Alvalade, Alvalade, Lisboa</td>\n",
       "      <td>Used,Net Area,-,Floor Area,300m²,Construction ...</td>\n",
       "    </tr>\n",
       "    <tr>\n",
       "      <th>2</th>\n",
       "      <td>/ 25,000</td>\n",
       "      <td>House 4 Bedrooms +2, Restelo (Santa Maria de B...</td>\n",
       "      <td>Used,Net Area,680m²,Floor Area,800m²,Construct...</td>\n",
       "    </tr>\n",
       "    <tr>\n",
       "      <th>3</th>\n",
       "      <td>2,480,000</td>\n",
       "      <td>House 4 Bedrooms +1, Paço do Lumiar, Lumiar, L...</td>\n",
       "      <td>Remodelled,Net Area,317m²,Floor Area,-,Constru...</td>\n",
       "    </tr>\n",
       "    <tr>\n",
       "      <th>4</th>\n",
       "      <td>1,522,257</td>\n",
       "      <td>Semi-Detached House 2 Bedrooms + 1, Campolide,...</td>\n",
       "      <td>New,Net Area,548m²,Floor Area,-,Construction A...</td>\n",
       "    </tr>\n",
       "  </tbody>\n",
       "</table>\n",
       "</div>"
      ],
      "text/plain": [
       "       price                                              title  \\\n",
       "0  1,500,000  \\r\\n                        House 5 Bedrooms, ...   \n",
       "1  6,300,000       House 7 Bedrooms, Alvalade, Alvalade, Lisboa   \n",
       "2   / 25,000  House 4 Bedrooms +2, Restelo (Santa Maria de B...   \n",
       "3  2,480,000  House 4 Bedrooms +1, Paço do Lumiar, Lumiar, L...   \n",
       "4  1,522,257  Semi-Detached House 2 Bedrooms + 1, Campolide,...   \n",
       "\n",
       "                                                area  \n",
       "0                                                     \n",
       "1  Used,Net Area,-,Floor Area,300m²,Construction ...  \n",
       "2  Used,Net Area,680m²,Floor Area,800m²,Construct...  \n",
       "3  Remodelled,Net Area,317m²,Floor Area,-,Constru...  \n",
       "4  New,Net Area,548m²,Floor Area,-,Construction A...  "
      ]
     },
     "execution_count": 32,
     "metadata": {},
     "output_type": "execute_result"
    }
   ],
   "source": [
    "SapoHouz.head()"
   ]
  },
  {
   "cell_type": "code",
   "execution_count": 33,
   "metadata": {},
   "outputs": [],
   "source": [
    "df1 = pd.DataFrame(SapoHouz['area'].str.split(',',6).tolist(), columns = ['Condition', 'NetArea1',\n",
    "                                                                     'NetArea','FloorArea1',\n",
    "                                                                     'FloorArea','ContructionArea1','ConstructionArea'])\n"
   ]
  },
  {
   "cell_type": "code",
   "execution_count": null,
   "metadata": {},
   "outputs": [],
   "source": []
  },
  {
   "cell_type": "code",
   "execution_count": 34,
   "metadata": {},
   "outputs": [],
   "source": [
    "df1['NetArea'].loc[df1['NetArea'] == '-'] = df1['FloorArea']\n",
    "df1['NetArea'].loc[df1['NetArea'] == ''] = df1['FloorArea']\n"
   ]
  },
  {
   "cell_type": "code",
   "execution_count": 35,
   "metadata": {},
   "outputs": [],
   "source": [
    "df1 = df1.drop([0])\n",
    "df1 = df1.drop(columns=['NetArea1','FloorArea1','ContructionArea1', 'FloorArea', 'ConstructionArea'])\n",
    "dfyz = pd.DataFrame(SapoHouz['title'].str.split(',').tolist(), columns = ['Bedrooms', 'Neighborhood', 'Parish','City'])\n",
    "dfxz = pd.DataFrame(dfyz['Bedrooms'].str.split(' ',2).tolist(), columns = ['Type','NbrBedrooms','Bedroom'])\n",
    "\n",
    "dfyz = dfyz.join(dfxz)\n",
    "dfyz = dfyz.join(df1)\n",
    "dfyz = dfyz.drop(columns = ['Bedrooms'])\n",
    "dfyz.head()\n"
   ]
  },
  {
   "cell_type": "code",
   "execution_count": 43,
   "metadata": {},
   "outputs": [],
   "source": [
    "SapoHouz = SapoHouz.join(dfyz)\n",
    "SapoHouz = SapoHouz.drop(columns=['area'])\n",
    "SapoHouz = SapoHouz.drop([0])\n",
    "SapoHouz.head()\n"
   ]
  },
  {
   "cell_type": "code",
   "execution_count": 46,
   "metadata": {},
   "outputs": [],
   "source": [
    "SapoHouz.to_csv('CasaSapoHouses.csv')"
   ]
  },
  {
   "cell_type": "code",
   "execution_count": 49,
   "metadata": {},
   "outputs": [],
   "source": [
    "SapoAll = Sapo.append(SapoHouz)"
   ]
  },
  {
   "cell_type": "code",
   "execution_count": 50,
   "metadata": {},
   "outputs": [],
   "source": [
    "SapoAll = SapoAll.reset_index()\n",
    "SapoAll = SapoAll.drop(columns = ['index'])\n",
    "SapoAll = SapoAll.drop_duplicates()\n",
    "SapoAll = SapoAll.drop(columns = ['title', 'Bedroom'])\n",
    "SapoAll['City'] = 'Lisbon'\n",
    "SapoAll.to_csv('CasaSapo_AllProperty.csv')\n"
   ]
  },
  {
   "cell_type": "code",
   "execution_count": 55,
   "metadata": {},
   "outputs": [],
   "source": [
    "SapoAll.loc[SapoAll['Parish'] == ' Lisboa','Parish'] = SapoAll['Neighborhood']\n",
    "SapoAll.loc[SapoAll['Parish'] == ' Lisboa\\r\\n                    ','Parish'] = SapoAll['Neighborhood']\n",
    "SapoAll = SapoAll.loc[SapoAll['Type'] != '\\r\\n']\n",
    "\n"
   ]
  },
  {
   "cell_type": "code",
   "execution_count": 58,
   "metadata": {},
   "outputs": [],
   "source": [
    "SapoAll = SapoAll.loc[SapoAll['NbrBedrooms'] != 'floor']"
   ]
  },
  {
   "cell_type": "code",
   "execution_count": 59,
   "metadata": {},
   "outputs": [],
   "source": [
    "SapoAll = SapoAll.loc[SapoAll['NbrBedrooms'] != 'Floor']"
   ]
  },
  {
   "cell_type": "code",
   "execution_count": 60,
   "metadata": {},
   "outputs": [],
   "source": [
    "SapoAll = SapoAll.loc[SapoAll['NbrBedrooms'] != 'House']\n"
   ]
  },
  {
   "cell_type": "code",
   "execution_count": 61,
   "metadata": {},
   "outputs": [],
   "source": [
    "SapoAll = SapoAll.loc[SapoAll['NbrBedrooms'] != 'No']"
   ]
  },
  {
   "cell_type": "code",
   "execution_count": 62,
   "metadata": {},
   "outputs": [],
   "source": [
    "SapoAll = SapoAll.loc[SapoAll['NbrBedrooms'] != None]"
   ]
  },
  {
   "cell_type": "code",
   "execution_count": 63,
   "metadata": {},
   "outputs": [],
   "source": [
    "SapoAll.loc[SapoAll['NbrBedrooms'] == 'Studio', 'NbrBedrooms'] = '0'"
   ]
  },
  {
   "cell_type": "code",
   "execution_count": 67,
   "metadata": {},
   "outputs": [],
   "source": [
    "SapoAll['price'] =SapoAll['price'].str.replace(',','')\n",
    "SapoAll['price'] =SapoAll['price'].str.replace('/','')"
   ]
  },
  {
   "cell_type": "code",
   "execution_count": 68,
   "metadata": {},
   "outputs": [],
   "source": [
    "SapoAll['price'] =SapoAll['price'].str.replace('/','')"
   ]
  },
  {
   "cell_type": "code",
   "execution_count": 69,
   "metadata": {},
   "outputs": [],
   "source": [
    "SapoAll.to_csv('SapoDataSetCleaned.csv')"
   ]
  },
  {
   "cell_type": "code",
   "execution_count": 71,
   "metadata": {},
   "outputs": [],
   "source": [
    "SapoAll = SapoAll[SapoAll['price'].apply(lambda x: len(x)>=5)]"
   ]
  },
  {
   "cell_type": "code",
   "execution_count": 72,
   "metadata": {},
   "outputs": [],
   "source": [
    "SapoAll.to_csv('SapoDataSetCleaned.csv')"
   ]
  },
  {
   "cell_type": "code",
   "execution_count": 73,
   "metadata": {},
   "outputs": [],
   "source": [
    "SapoAll['price'] = pd.to_numeric(SapoAll.price,errors='coerce')"
   ]
  },
  {
   "cell_type": "code",
   "execution_count": 74,
   "metadata": {},
   "outputs": [
    {
     "data": {
      "text/plain": [
       "price           float64\n",
       "Neighborhood     object\n",
       "Parish           object\n",
       "City             object\n",
       "Type             object\n",
       "NbrBedrooms      object\n",
       "Condition        object\n",
       "NetArea          object\n",
       "dtype: object"
      ]
     },
     "execution_count": 74,
     "metadata": {},
     "output_type": "execute_result"
    }
   ],
   "source": [
    "SapoAll.dtypes"
   ]
  },
  {
   "cell_type": "code",
   "execution_count": 75,
   "metadata": {},
   "outputs": [],
   "source": [
    "SapoAll.to_csv('SapoDataSetCleaned.csv')"
   ]
  },
  {
   "cell_type": "markdown",
   "metadata": {},
   "source": [
    "## Bringing it all together"
   ]
  },
  {
   "cell_type": "code",
   "execution_count": 168,
   "metadata": {},
   "outputs": [],
   "source": [
    "df = pd.read_csv('SapoDataSetCleaned.csv')"
   ]
  },
  {
   "cell_type": "code",
   "execution_count": 169,
   "metadata": {},
   "outputs": [
    {
     "data": {
      "text/html": [
       "<div>\n",
       "<style scoped>\n",
       "    .dataframe tbody tr th:only-of-type {\n",
       "        vertical-align: middle;\n",
       "    }\n",
       "\n",
       "    .dataframe tbody tr th {\n",
       "        vertical-align: top;\n",
       "    }\n",
       "\n",
       "    .dataframe thead th {\n",
       "        text-align: right;\n",
       "    }\n",
       "</style>\n",
       "<table border=\"1\" class=\"dataframe\">\n",
       "  <thead>\n",
       "    <tr style=\"text-align: right;\">\n",
       "      <th></th>\n",
       "      <th>Unnamed: 0</th>\n",
       "      <th>price</th>\n",
       "      <th>Neighborhood</th>\n",
       "      <th>Parish</th>\n",
       "      <th>City</th>\n",
       "      <th>Type</th>\n",
       "      <th>NbrBedrooms</th>\n",
       "      <th>Condition</th>\n",
       "      <th>NetArea</th>\n",
       "    </tr>\n",
       "  </thead>\n",
       "  <tbody>\n",
       "    <tr>\n",
       "      <th>0</th>\n",
       "      <td>0</td>\n",
       "      <td>320000.0</td>\n",
       "      <td>Penha de França</td>\n",
       "      <td>Penha de França</td>\n",
       "      <td>Lisbon</td>\n",
       "      <td>Apartment</td>\n",
       "      <td>2.0</td>\n",
       "      <td>Refurbished</td>\n",
       "      <td>85m²</td>\n",
       "    </tr>\n",
       "    <tr>\n",
       "      <th>1</th>\n",
       "      <td>1</td>\n",
       "      <td>2200000.0</td>\n",
       "      <td>Restelo (São Francisco Xavier)</td>\n",
       "      <td>Belém</td>\n",
       "      <td>Lisbon</td>\n",
       "      <td>Apartment</td>\n",
       "      <td>4.0</td>\n",
       "      <td>Refurbished</td>\n",
       "      <td>80m²</td>\n",
       "    </tr>\n",
       "    <tr>\n",
       "      <th>2</th>\n",
       "      <td>2</td>\n",
       "      <td>1650000.0</td>\n",
       "      <td>Amoreiras</td>\n",
       "      <td>Campolide</td>\n",
       "      <td>Lisbon</td>\n",
       "      <td>Apartment</td>\n",
       "      <td>3.0</td>\n",
       "      <td>New</td>\n",
       "      <td>282m²</td>\n",
       "    </tr>\n",
       "    <tr>\n",
       "      <th>3</th>\n",
       "      <td>3</td>\n",
       "      <td>1500000.0</td>\n",
       "      <td>Páteo Bagatela (São Mamede)</td>\n",
       "      <td>Santo António</td>\n",
       "      <td>Lisbon</td>\n",
       "      <td>Apartment</td>\n",
       "      <td>4.0</td>\n",
       "      <td>Under construction</td>\n",
       "      <td>211m²</td>\n",
       "    </tr>\n",
       "    <tr>\n",
       "      <th>4</th>\n",
       "      <td>4</td>\n",
       "      <td>350000.0</td>\n",
       "      <td>Campolide</td>\n",
       "      <td>Campolide</td>\n",
       "      <td>Lisbon</td>\n",
       "      <td>Apartment</td>\n",
       "      <td>3.0</td>\n",
       "      <td>Used</td>\n",
       "      <td>225m²</td>\n",
       "    </tr>\n",
       "  </tbody>\n",
       "</table>\n",
       "</div>"
      ],
      "text/plain": [
       "   Unnamed: 0      price                     Neighborhood            Parish  \\\n",
       "0           0   320000.0                  Penha de França   Penha de França   \n",
       "1           1  2200000.0   Restelo (São Francisco Xavier)             Belém   \n",
       "2           2  1650000.0                        Amoreiras         Campolide   \n",
       "3           3  1500000.0      Páteo Bagatela (São Mamede)     Santo António   \n",
       "4           4   350000.0                        Campolide         Campolide   \n",
       "\n",
       "     City       Type  NbrBedrooms           Condition NetArea  \n",
       "0  Lisbon  Apartment          2.0         Refurbished    85m²  \n",
       "1  Lisbon  Apartment          4.0         Refurbished    80m²  \n",
       "2  Lisbon  Apartment          3.0                 New   282m²  \n",
       "3  Lisbon  Apartment          4.0  Under construction   211m²  \n",
       "4  Lisbon  Apartment          3.0                Used   225m²  "
      ]
     },
     "execution_count": 169,
     "metadata": {},
     "output_type": "execute_result"
    }
   ],
   "source": [
    "df.head()"
   ]
  },
  {
   "cell_type": "code",
   "execution_count": 170,
   "metadata": {},
   "outputs": [
    {
     "data": {
      "text/plain": [
       "array([' Penha de França', ' Belém', ' Campolide', ' Santo António',\n",
       "       ' Alvalade', ' Benfica', ' Avenidas Novas',\n",
       "       ' São Domingos de Benfica', ' Misericórdia', ' Areeiro',\n",
       "       ' Santa Maria Maior', ' Olivais', ' Arroios', ' São Vicente',\n",
       "       ' Estrela', ' Beato', ' Parque das Nações', ' Campo de Ourique',\n",
       "       ' Lumiar', ' Marvila', ' Alcântara', ' Ajuda', ' Santa Clara',\n",
       "       ' Carnide', ' Parque das Naç��es', ' S��o Domingos de Benfica'],\n",
       "      dtype=object)"
      ]
     },
     "execution_count": 170,
     "metadata": {},
     "output_type": "execute_result"
    }
   ],
   "source": [
    "df['Parish'].unique()"
   ]
  },
  {
   "cell_type": "code",
   "execution_count": 171,
   "metadata": {},
   "outputs": [],
   "source": [
    "df['Parish'] = df['Parish'].str[1:]\n"
   ]
  },
  {
   "cell_type": "code",
   "execution_count": 176,
   "metadata": {},
   "outputs": [],
   "source": [
    "df['Parish'].loc[df['Parish'] == 'S��o Domingos de Benfica'] = 'São Domingos de Benfica'\n",
    "df['Parish'].loc[df['Parish'] == 'Parque das Naç��es'] = 'Parque das Nações'"
   ]
  },
  {
   "cell_type": "code",
   "execution_count": 177,
   "metadata": {},
   "outputs": [
    {
     "data": {
      "text/html": [
       "<div>\n",
       "<style scoped>\n",
       "    .dataframe tbody tr th:only-of-type {\n",
       "        vertical-align: middle;\n",
       "    }\n",
       "\n",
       "    .dataframe tbody tr th {\n",
       "        vertical-align: top;\n",
       "    }\n",
       "\n",
       "    .dataframe thead th {\n",
       "        text-align: right;\n",
       "    }\n",
       "</style>\n",
       "<table border=\"1\" class=\"dataframe\">\n",
       "  <thead>\n",
       "    <tr style=\"text-align: right;\">\n",
       "      <th></th>\n",
       "      <th>Unnamed: 0</th>\n",
       "      <th>price</th>\n",
       "      <th>Neighborhood</th>\n",
       "      <th>Parish</th>\n",
       "      <th>City</th>\n",
       "      <th>Type</th>\n",
       "      <th>NbrBedrooms</th>\n",
       "      <th>Condition</th>\n",
       "      <th>NetArea</th>\n",
       "    </tr>\n",
       "  </thead>\n",
       "  <tbody>\n",
       "  </tbody>\n",
       "</table>\n",
       "</div>"
      ],
      "text/plain": [
       "Empty DataFrame\n",
       "Columns: [Unnamed: 0, price, Neighborhood, Parish, City, Type, NbrBedrooms, Condition, NetArea]\n",
       "Index: []"
      ]
     },
     "execution_count": 177,
     "metadata": {},
     "output_type": "execute_result"
    }
   ],
   "source": [
    "df.loc[df['Parish'] == 'Parque das Naç��es']"
   ]
  },
  {
   "cell_type": "code",
   "execution_count": 178,
   "metadata": {},
   "outputs": [],
   "source": [
    "df = df.dropna(axis = 0).reset_index()\n",
    "df = df.drop(columns=['index', 'Unnamed: 0'])"
   ]
  },
  {
   "cell_type": "code",
   "execution_count": 179,
   "metadata": {},
   "outputs": [],
   "source": [
    "#removing all listings with over 6 bedrooms\n",
    "df = df.loc[df['NbrBedrooms'] < 6]\n",
    "\n",
    "df['NbrBedrooms'] = df['NbrBedrooms'].astype(int)\n",
    "df['price'] = df['price'].astype(int)\n",
    "\n",
    "#remove the 'm**2' from NetArea\n",
    "df['NetArea'] = df['NetArea'].str[:-2]\n",
    "\n",
    "empty = df.loc[df['NetArea'] =='']\n",
    "df = df.drop(empty.index, axis = 0)"
   ]
  },
  {
   "cell_type": "code",
   "execution_count": 183,
   "metadata": {},
   "outputs": [
    {
     "data": {
      "text/html": [
       "<div>\n",
       "<style scoped>\n",
       "    .dataframe tbody tr th:only-of-type {\n",
       "        vertical-align: middle;\n",
       "    }\n",
       "\n",
       "    .dataframe tbody tr th {\n",
       "        vertical-align: top;\n",
       "    }\n",
       "\n",
       "    .dataframe thead th {\n",
       "        text-align: right;\n",
       "    }\n",
       "</style>\n",
       "<table border=\"1\" class=\"dataframe\">\n",
       "  <thead>\n",
       "    <tr style=\"text-align: right;\">\n",
       "      <th></th>\n",
       "      <th>price</th>\n",
       "      <th>Neighborhood</th>\n",
       "      <th>Parish</th>\n",
       "      <th>City</th>\n",
       "      <th>Type</th>\n",
       "      <th>NbrBedrooms</th>\n",
       "      <th>Condition</th>\n",
       "      <th>NetArea</th>\n",
       "    </tr>\n",
       "  </thead>\n",
       "  <tbody>\n",
       "    <tr>\n",
       "      <th>0</th>\n",
       "      <td>320000</td>\n",
       "      <td>Penha de França</td>\n",
       "      <td>Penha de França</td>\n",
       "      <td>Lisbon</td>\n",
       "      <td>Apartment</td>\n",
       "      <td>2</td>\n",
       "      <td>Refurbished</td>\n",
       "      <td>85</td>\n",
       "    </tr>\n",
       "    <tr>\n",
       "      <th>1</th>\n",
       "      <td>2200000</td>\n",
       "      <td>Restelo (São Francisco Xavier)</td>\n",
       "      <td>Belém</td>\n",
       "      <td>Lisbon</td>\n",
       "      <td>Apartment</td>\n",
       "      <td>4</td>\n",
       "      <td>Refurbished</td>\n",
       "      <td>80</td>\n",
       "    </tr>\n",
       "    <tr>\n",
       "      <th>2</th>\n",
       "      <td>1650000</td>\n",
       "      <td>Amoreiras</td>\n",
       "      <td>Campolide</td>\n",
       "      <td>Lisbon</td>\n",
       "      <td>Apartment</td>\n",
       "      <td>3</td>\n",
       "      <td>New</td>\n",
       "      <td>282</td>\n",
       "    </tr>\n",
       "    <tr>\n",
       "      <th>3</th>\n",
       "      <td>1500000</td>\n",
       "      <td>Páteo Bagatela (São Mamede)</td>\n",
       "      <td>Santo António</td>\n",
       "      <td>Lisbon</td>\n",
       "      <td>Apartment</td>\n",
       "      <td>4</td>\n",
       "      <td>Under construction</td>\n",
       "      <td>211</td>\n",
       "    </tr>\n",
       "    <tr>\n",
       "      <th>4</th>\n",
       "      <td>350000</td>\n",
       "      <td>Campolide</td>\n",
       "      <td>Campolide</td>\n",
       "      <td>Lisbon</td>\n",
       "      <td>Apartment</td>\n",
       "      <td>3</td>\n",
       "      <td>Used</td>\n",
       "      <td>225</td>\n",
       "    </tr>\n",
       "  </tbody>\n",
       "</table>\n",
       "</div>"
      ],
      "text/plain": [
       "     price                     Neighborhood           Parish    City  \\\n",
       "0   320000                  Penha de França  Penha de França  Lisbon   \n",
       "1  2200000   Restelo (São Francisco Xavier)            Belém  Lisbon   \n",
       "2  1650000                        Amoreiras        Campolide  Lisbon   \n",
       "3  1500000      Páteo Bagatela (São Mamede)    Santo António  Lisbon   \n",
       "4   350000                        Campolide        Campolide  Lisbon   \n",
       "\n",
       "        Type  NbrBedrooms           Condition NetArea  \n",
       "0  Apartment            2         Refurbished      85  \n",
       "1  Apartment            4         Refurbished      80  \n",
       "2  Apartment            3                 New     282  \n",
       "3  Apartment            4  Under construction     211  \n",
       "4  Apartment            3                Used     225  "
      ]
     },
     "execution_count": 183,
     "metadata": {},
     "output_type": "execute_result"
    }
   ],
   "source": [
    "df.head()"
   ]
  },
  {
   "cell_type": "code",
   "execution_count": 184,
   "metadata": {},
   "outputs": [
    {
     "data": {
      "text/plain": [
       "Used                                         9669\n",
       "New                                          4326\n",
       "Under construction                           3555\n",
       "Refurbished                                  2985\n",
       "Remodelled                                   1567\n",
       "For refurbishment                             741\n",
       "In project                                    215\n",
       "Not Applicable                                 57\n",
       "To demolish or rebuild                          4\n",
       "With Incentive Program for Rehabilitation       1\n",
       "Name: Condition, dtype: int64"
      ]
     },
     "execution_count": 184,
     "metadata": {},
     "output_type": "execute_result"
    }
   ],
   "source": [
    "df['Condition'].value_counts()"
   ]
  },
  {
   "cell_type": "code",
   "execution_count": 185,
   "metadata": {},
   "outputs": [],
   "source": [
    "df_used = df.loc[df['Condition']=='Used']\n",
    "df_new = df.loc[df['Condition']=='New']\n",
    "df_constr = df.loc[df['Condition']=='Under construction']\n",
    "df_refur = df.loc[df['Condition']=='Refurbished']"
   ]
  },
  {
   "cell_type": "code",
   "execution_count": 186,
   "metadata": {},
   "outputs": [
    {
     "data": {
      "text/plain": [
       "<matplotlib.axes._subplots.AxesSubplot at 0x1a1de98828>"
      ]
     },
     "execution_count": 186,
     "metadata": {},
     "output_type": "execute_result"
    },
    {
     "data": {
      "image/png": "[encoded data removed]",
      "text/plain": [
       "<Figure size 432x288 with 1 Axes>"
      ]
     },
     "metadata": {
      "needs_background": "light"
     },
     "output_type": "display_data"
    }
   ],
   "source": [
    "sb.distplot(df_used['price'], bins =20)"
   ]
  },
  {
   "cell_type": "code",
   "execution_count": 187,
   "metadata": {},
   "outputs": [],
   "source": [
    "df['NetArea'].loc[df['NetArea']=='38m'] = 38"
   ]
  },
  {
   "cell_type": "code",
   "execution_count": 188,
   "metadata": {},
   "outputs": [],
   "source": [
    "df['NetArea'].unique()"
   ]
  },
  {
   "cell_type": "code",
   "execution_count": 189,
   "metadata": {},
   "outputs": [],
   "source": [
    "df['NetArea'] = df['NetArea'].astype(int)"
   ]
  },
  {
   "cell_type": "code",
   "execution_count": 190,
   "metadata": {},
   "outputs": [],
   "source": [
    "#show price in 100's K\n",
    "df['price'] = df['price'] / 1000"
   ]
  },
  {
   "cell_type": "code",
   "execution_count": 191,
   "metadata": {},
   "outputs": [
    {
     "data": {
      "text/plain": [
       "<matplotlib.axes._subplots.AxesSubplot at 0x1a30e7eac8>"
      ]
     },
     "execution_count": 191,
     "metadata": {},
     "output_type": "execute_result"
    },
    {
     "data": {
      "image/png": "[encoded data removed]",
      "text/plain": [
       "<Figure size 432x288 with 1 Axes>"
      ]
     },
     "metadata": {
      "needs_background": "light"
     },
     "output_type": "display_data"
    }
   ],
   "source": [
    "sb.distplot(df['price'], bins =20)"
   ]
  },
  {
   "cell_type": "code",
   "execution_count": 192,
   "metadata": {},
   "outputs": [],
   "source": [
    "#remove all listings above 1 million euros\n",
    "df_adjustedPrice = df.loc[df['price'] < 1000]"
   ]
  },
  {
   "cell_type": "code",
   "execution_count": 200,
   "metadata": {},
   "outputs": [
    {
     "data": {
      "text/plain": [
       "array(['Penha de França', 'Belém', 'Campolide', 'Santo António',\n",
       "       'Benfica', 'Avenidas Novas', 'São Domingos de Benfica',\n",
       "       'Misericórdia', 'Areeiro', 'Santa Maria Maior', 'Olivais',\n",
       "       'Arroios', 'São Vicente', 'Estrela', 'Beato', 'Parque das Nações',\n",
       "       'Alvalade', 'Lumiar', 'Marvila', 'Alcântara', 'Campo de Ourique',\n",
       "       'Ajuda', 'Santa Clara', 'Carnide'], dtype=object)"
      ]
     },
     "execution_count": 200,
     "metadata": {},
     "output_type": "execute_result"
    }
   ],
   "source": [
    "df.Parish.unique()"
   ]
  },
  {
   "cell_type": "code",
   "execution_count": 193,
   "metadata": {},
   "outputs": [
    {
     "data": {
      "text/plain": [
       "<matplotlib.axes._subplots.AxesSubplot at 0x1a31163048>"
      ]
     },
     "execution_count": 193,
     "metadata": {},
     "output_type": "execute_result"
    },
    {
     "data": {
      "image/png": "[encoded data removed]",
      "text/plain": [
       "<Figure size 432x288 with 1 Axes>"
      ]
     },
     "metadata": {
      "needs_background": "light"
     },
     "output_type": "display_data"
    }
   ],
   "source": [
    "sb.distplot(df_adjustedPrice['price'], bins =30)"
   ]
  },
  {
   "cell_type": "code",
   "execution_count": 194,
   "metadata": {
    "scrolled": true
   },
   "outputs": [
    {
     "data": {
      "text/html": [
       "<div>\n",
       "<style scoped>\n",
       "    .dataframe tbody tr th:only-of-type {\n",
       "        vertical-align: middle;\n",
       "    }\n",
       "\n",
       "    .dataframe tbody tr th {\n",
       "        vertical-align: top;\n",
       "    }\n",
       "\n",
       "    .dataframe thead th {\n",
       "        text-align: right;\n",
       "    }\n",
       "</style>\n",
       "<table border=\"1\" class=\"dataframe\">\n",
       "  <thead>\n",
       "    <tr style=\"text-align: right;\">\n",
       "      <th></th>\n",
       "      <th>price</th>\n",
       "      <th>Neighborhood</th>\n",
       "      <th>Parish</th>\n",
       "      <th>City</th>\n",
       "      <th>Type</th>\n",
       "      <th>NbrBedrooms</th>\n",
       "      <th>Condition</th>\n",
       "      <th>NetArea</th>\n",
       "    </tr>\n",
       "  </thead>\n",
       "  <tbody>\n",
       "    <tr>\n",
       "      <th>0</th>\n",
       "      <td>320.0</td>\n",
       "      <td>Penha de França</td>\n",
       "      <td>Penha de França</td>\n",
       "      <td>Lisbon</td>\n",
       "      <td>Apartment</td>\n",
       "      <td>2</td>\n",
       "      <td>Refurbished</td>\n",
       "      <td>85</td>\n",
       "    </tr>\n",
       "    <tr>\n",
       "      <th>4</th>\n",
       "      <td>350.0</td>\n",
       "      <td>Campolide</td>\n",
       "      <td>Campolide</td>\n",
       "      <td>Lisbon</td>\n",
       "      <td>Apartment</td>\n",
       "      <td>3</td>\n",
       "      <td>Used</td>\n",
       "      <td>225</td>\n",
       "    </tr>\n",
       "    <tr>\n",
       "      <th>5</th>\n",
       "      <td>277.5</td>\n",
       "      <td>Charquinho</td>\n",
       "      <td>Benfica</td>\n",
       "      <td>Lisbon</td>\n",
       "      <td>Apartment</td>\n",
       "      <td>3</td>\n",
       "      <td>New</td>\n",
       "      <td>186</td>\n",
       "    </tr>\n",
       "    <tr>\n",
       "      <th>6</th>\n",
       "      <td>830.0</td>\n",
       "      <td>Amoreiras</td>\n",
       "      <td>Campolide</td>\n",
       "      <td>Lisbon</td>\n",
       "      <td>Apartment</td>\n",
       "      <td>2</td>\n",
       "      <td>Refurbished</td>\n",
       "      <td>89</td>\n",
       "    </tr>\n",
       "    <tr>\n",
       "      <th>7</th>\n",
       "      <td>299.9</td>\n",
       "      <td>Fonte Nova</td>\n",
       "      <td>Benfica</td>\n",
       "      <td>Lisbon</td>\n",
       "      <td>Apartment</td>\n",
       "      <td>3</td>\n",
       "      <td>Under construction</td>\n",
       "      <td>115</td>\n",
       "    </tr>\n",
       "  </tbody>\n",
       "</table>\n",
       "</div>"
      ],
      "text/plain": [
       "   price      Neighborhood           Parish    City       Type  NbrBedrooms  \\\n",
       "0  320.0   Penha de França  Penha de França  Lisbon  Apartment            2   \n",
       "4  350.0         Campolide        Campolide  Lisbon  Apartment            3   \n",
       "5  277.5        Charquinho          Benfica  Lisbon  Apartment            3   \n",
       "6  830.0         Amoreiras        Campolide  Lisbon  Apartment            2   \n",
       "7  299.9        Fonte Nova          Benfica  Lisbon  Apartment            3   \n",
       "\n",
       "            Condition  NetArea  \n",
       "0         Refurbished       85  \n",
       "4                Used      225  \n",
       "5                 New      186  \n",
       "6         Refurbished       89  \n",
       "7  Under construction      115  "
      ]
     },
     "execution_count": 194,
     "metadata": {},
     "output_type": "execute_result"
    }
   ],
   "source": [
    "df_adjustedPrice.head()"
   ]
  },
  {
   "cell_type": "code",
   "execution_count": 201,
   "metadata": {},
   "outputs": [],
   "source": [
    "#FINAL DISTRIBUTION FILE\n",
    "df_adjustedPrice.to_csv('SapoDistData.csv')"
   ]
  },
  {
   "cell_type": "code",
   "execution_count": 195,
   "metadata": {},
   "outputs": [
    {
     "name": "stderr",
     "output_type": "stream",
     "text": [
      "/anaconda3/lib/python3.7/site-packages/ipykernel_launcher.py:1: SettingWithCopyWarning: \n",
      "A value is trying to be set on a copy of a slice from a DataFrame.\n",
      "Try using .loc[row_indexer,col_indexer] = value instead\n",
      "\n",
      "See the caveats in the documentation: http://pandas.pydata.org/pandas-docs/stable/indexing.html#indexing-view-versus-copy\n",
      "  \"\"\"Entry point for launching an IPython kernel.\n"
     ]
    }
   ],
   "source": [
    "df_adjustedPrice['PriceSqM'] = df_adjustedPrice['price'] / df_adjustedPrice['NetArea']"
   ]
  },
  {
   "cell_type": "code",
   "execution_count": 196,
   "metadata": {},
   "outputs": [],
   "source": [
    "avg_price_PerSqm = df_adjustedPrice.groupby(['NbrBedrooms', 'Parish']).mean()\n",
    "avg_price_PerSqm = avg_price_PerSqm.round({'price': 2, 'NetArea': 0, 'PriceSqM': 2})"
   ]
  },
  {
   "cell_type": "code",
   "execution_count": null,
   "metadata": {},
   "outputs": [],
   "source": []
  },
  {
   "cell_type": "code",
   "execution_count": 197,
   "metadata": {},
   "outputs": [],
   "source": [
    "#FINAL HOUSING FILE WITH PRICE?SQUARE METER\n",
    "avg_price_PerSqm.to_csv('avg_price_PerSqm_SAPO.csv')"
   ]
  }
 ],
 "metadata": {
  "kernelspec": {
   "display_name": "Python 3",
   "language": "python",
   "name": "python3"
  },
  "language_info": {
   "codemirror_mode": {
    "name": "ipython",
    "version": 3
   },
   "file_extension": ".py",
   "mimetype": "text/x-python",
   "name": "python",
   "nbconvert_exporter": "python",
   "pygments_lexer": "ipython3",
   "version": "3.7.1"
  }
 },
 "nbformat": 4,
 "nbformat_minor": 2
}
